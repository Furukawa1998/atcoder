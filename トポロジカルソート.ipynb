{
  "nbformat": 4,
  "nbformat_minor": 0,
  "metadata": {
    "colab": {
      "name": "トポロジカルソート.ipynb",
      "provenance": [],
      "authorship_tag": "ABX9TyNZ504QihmoqArH8weYw+aD",
      "include_colab_link": true
    },
    "kernelspec": {
      "name": "python3",
      "display_name": "Python 3"
    },
    "language_info": {
      "name": "python"
    }
  },
  "cells": [
    {
      "cell_type": "markdown",
      "metadata": {
        "id": "view-in-github",
        "colab_type": "text"
      },
      "source": [
        "<a href=\"https://colab.research.google.com/github/Furukawa1998/atcoder/blob/main/%E3%83%88%E3%83%9D%E3%83%AD%E3%82%B8%E3%82%AB%E3%83%AB%E3%82%BD%E3%83%BC%E3%83%88.ipynb\" target=\"_parent\"><img src=\"https://colab.research.google.com/assets/colab-badge.svg\" alt=\"Open In Colab\"/></a>"
      ]
    },
    {
      "cell_type": "code",
      "metadata": {
        "id": "-053enfe4Wzv"
      },
      "source": [
        "from heapq import heappop,heappush\n",
        "def topo_sort(N):\n",
        "  out = [[] for i in range(N)]\n",
        "  indeg = [0 for i in range(N)]\n",
        "  sorted_list = []\n",
        "  for i in range(M):\n",
        "    a,b = map(int,input().split())\n",
        "    a = a - 1\n",
        "    b = b - 1\n",
        "    out[a].append(b)\n",
        "    indeg[b] += 1\n",
        "  Q = []\n",
        "  for i in range(N):\n",
        "    if indeg[i] == 0:\n",
        "      Q.append(i)\n",
        "  while len(Q) != 0:\n",
        "    i = Q[0]\n",
        "    heappop(Q)\n",
        "    sorted_list.append(str(i+1))\n",
        "    for j in out[i]:\n",
        "      indeg[j] = indeg[j] - 1\n",
        "      if indeg[j] == 0:\n",
        "        heappush(Q,j)\n",
        "  if len(sorted_list) != N:\n",
        "    print(-1)\n",
        "  else:\n",
        "    print(' '.join(sorted_list))\n"
      ],
      "execution_count": 2,
      "outputs": []
    }
  ]
}